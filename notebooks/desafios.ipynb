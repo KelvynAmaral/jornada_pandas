{
 "cells": [
  {
   "cell_type": "markdown",
   "metadata": {
    "id": "goua7aDHJVFQ"
   },
   "source": [
    "## Descrição\n",
    "\n",
    "Esse notebook foi construído para realizar os desafios propostos no final de cada aula do curso **Pandas: conhecendo a biblioteca**"
   ]
  },
  {
   "cell_type": "markdown",
   "metadata": {
    "id": "2osVQB21Jkl0"
   },
   "source": [
    "## Aula 1: Conhecendo a base de dados"
   ]
  },
  {
   "cell_type": "markdown",
   "metadata": {
    "id": "MvoEQ0djJ4zz"
   },
   "source": [
    "### Desafio 1\n",
    "Importe o arquivo [**alunos.csv**](https://raw.githubusercontent.com/alura-cursos/pandas-conhecendo-a-biblioteca/main/desafios/alunos.csv) e armazene seu conteúdo em um DataFrame Pandas"
   ]
  },
  {
   "cell_type": "code",
   "metadata": {
    "id": "vGH2QKP6JL-f",
    "ExecuteTime": {
     "end_time": "2025-02-15T18:56:09.483768Z",
     "start_time": "2025-02-15T18:56:08.236163Z"
    }
   },
   "source": [
    "import matplotlib.pyplot as plt\n",
    "import pandas as pd\n",
    "\n",
    "url = 'https://raw.githubusercontent.com/KelvynAmaral/jornada_pandas/refs/heads/main/datasets/alunos_salvos.csv'\n",
    "\n",
    "dados = pd.read_csv(url)"
   ],
   "outputs": [],
   "execution_count": 1
  },
  {
   "cell_type": "code",
   "metadata": {
    "id": "woFmZUEwKDjH",
    "ExecuteTime": {
     "end_time": "2025-02-15T18:56:09.522543Z",
     "start_time": "2025-02-15T18:56:09.505532Z"
    }
   },
   "source": [
    "dados.head()"
   ],
   "outputs": [
    {
     "data": {
      "text/plain": [
       "    Nome  Idade  Notas  Aprovado\n",
       "0    Ary     20    7.5      True\n",
       "1    Ana     18    NaN     False\n",
       "2  Cátia     27    2.5     False\n",
       "3  Denis     18    5.0     False\n",
       "4   Beto     21   10.0      True"
      ],
      "text/html": [
       "<div>\n",
       "<style scoped>\n",
       "    .dataframe tbody tr th:only-of-type {\n",
       "        vertical-align: middle;\n",
       "    }\n",
       "\n",
       "    .dataframe tbody tr th {\n",
       "        vertical-align: top;\n",
       "    }\n",
       "\n",
       "    .dataframe thead th {\n",
       "        text-align: right;\n",
       "    }\n",
       "</style>\n",
       "<table border=\"1\" class=\"dataframe\">\n",
       "  <thead>\n",
       "    <tr style=\"text-align: right;\">\n",
       "      <th></th>\n",
       "      <th>Nome</th>\n",
       "      <th>Idade</th>\n",
       "      <th>Notas</th>\n",
       "      <th>Aprovado</th>\n",
       "    </tr>\n",
       "  </thead>\n",
       "  <tbody>\n",
       "    <tr>\n",
       "      <th>0</th>\n",
       "      <td>Ary</td>\n",
       "      <td>20</td>\n",
       "      <td>7.5</td>\n",
       "      <td>True</td>\n",
       "    </tr>\n",
       "    <tr>\n",
       "      <th>1</th>\n",
       "      <td>Ana</td>\n",
       "      <td>18</td>\n",
       "      <td>NaN</td>\n",
       "      <td>False</td>\n",
       "    </tr>\n",
       "    <tr>\n",
       "      <th>2</th>\n",
       "      <td>Cátia</td>\n",
       "      <td>27</td>\n",
       "      <td>2.5</td>\n",
       "      <td>False</td>\n",
       "    </tr>\n",
       "    <tr>\n",
       "      <th>3</th>\n",
       "      <td>Denis</td>\n",
       "      <td>18</td>\n",
       "      <td>5.0</td>\n",
       "      <td>False</td>\n",
       "    </tr>\n",
       "    <tr>\n",
       "      <th>4</th>\n",
       "      <td>Beto</td>\n",
       "      <td>21</td>\n",
       "      <td>10.0</td>\n",
       "      <td>True</td>\n",
       "    </tr>\n",
       "  </tbody>\n",
       "</table>\n",
       "</div>"
      ]
     },
     "execution_count": 2,
     "metadata": {},
     "output_type": "execute_result"
    }
   ],
   "execution_count": 2
  },
  {
   "cell_type": "markdown",
   "metadata": {
    "id": "_Clm9OC8KEzn"
   },
   "source": [
    "### Desafio 2\n",
    "Visualize as primeiras 7 linhas do DataFrame e as 5 últimas"
   ]
  },
  {
   "cell_type": "code",
   "metadata": {
    "id": "dGnHtl0CKVBj",
    "ExecuteTime": {
     "end_time": "2025-02-15T18:56:09.783952Z",
     "start_time": "2025-02-15T18:56:09.773652Z"
    }
   },
   "source": [
    "dados.head(7)"
   ],
   "outputs": [
    {
     "data": {
      "text/plain": [
       "    Nome  Idade  Notas  Aprovado\n",
       "0    Ary     20    7.5      True\n",
       "1    Ana     18    NaN     False\n",
       "2  Cátia     27    2.5     False\n",
       "3  Denis     18    5.0     False\n",
       "4   Beto     21   10.0      True\n",
       "5  Bruna     23    NaN     False\n",
       "6   Dara     21    7.0      True"
      ],
      "text/html": [
       "<div>\n",
       "<style scoped>\n",
       "    .dataframe tbody tr th:only-of-type {\n",
       "        vertical-align: middle;\n",
       "    }\n",
       "\n",
       "    .dataframe tbody tr th {\n",
       "        vertical-align: top;\n",
       "    }\n",
       "\n",
       "    .dataframe thead th {\n",
       "        text-align: right;\n",
       "    }\n",
       "</style>\n",
       "<table border=\"1\" class=\"dataframe\">\n",
       "  <thead>\n",
       "    <tr style=\"text-align: right;\">\n",
       "      <th></th>\n",
       "      <th>Nome</th>\n",
       "      <th>Idade</th>\n",
       "      <th>Notas</th>\n",
       "      <th>Aprovado</th>\n",
       "    </tr>\n",
       "  </thead>\n",
       "  <tbody>\n",
       "    <tr>\n",
       "      <th>0</th>\n",
       "      <td>Ary</td>\n",
       "      <td>20</td>\n",
       "      <td>7.5</td>\n",
       "      <td>True</td>\n",
       "    </tr>\n",
       "    <tr>\n",
       "      <th>1</th>\n",
       "      <td>Ana</td>\n",
       "      <td>18</td>\n",
       "      <td>NaN</td>\n",
       "      <td>False</td>\n",
       "    </tr>\n",
       "    <tr>\n",
       "      <th>2</th>\n",
       "      <td>Cátia</td>\n",
       "      <td>27</td>\n",
       "      <td>2.5</td>\n",
       "      <td>False</td>\n",
       "    </tr>\n",
       "    <tr>\n",
       "      <th>3</th>\n",
       "      <td>Denis</td>\n",
       "      <td>18</td>\n",
       "      <td>5.0</td>\n",
       "      <td>False</td>\n",
       "    </tr>\n",
       "    <tr>\n",
       "      <th>4</th>\n",
       "      <td>Beto</td>\n",
       "      <td>21</td>\n",
       "      <td>10.0</td>\n",
       "      <td>True</td>\n",
       "    </tr>\n",
       "    <tr>\n",
       "      <th>5</th>\n",
       "      <td>Bruna</td>\n",
       "      <td>23</td>\n",
       "      <td>NaN</td>\n",
       "      <td>False</td>\n",
       "    </tr>\n",
       "    <tr>\n",
       "      <th>6</th>\n",
       "      <td>Dara</td>\n",
       "      <td>21</td>\n",
       "      <td>7.0</td>\n",
       "      <td>True</td>\n",
       "    </tr>\n",
       "  </tbody>\n",
       "</table>\n",
       "</div>"
      ]
     },
     "execution_count": 3,
     "metadata": {},
     "output_type": "execute_result"
    }
   ],
   "execution_count": 3
  },
  {
   "cell_type": "code",
   "metadata": {
    "id": "hksDPBjjKY27",
    "ExecuteTime": {
     "end_time": "2025-02-15T18:56:09.895982Z",
     "start_time": "2025-02-15T18:56:09.887011Z"
    }
   },
   "source": [
    "dados.tail(5)"
   ],
   "outputs": [
    {
     "data": {
      "text/plain": [
       "      Nome  Idade  Notas  Aprovado\n",
       "13   Mirla     25    9.0      True\n",
       "14   Paulo     37    NaN     False\n",
       "15  Mylena     29    7.0      True\n",
       "16   Lucas     33    NaN     False\n",
       "17   Nadia     34    8.0      True"
      ],
      "text/html": [
       "<div>\n",
       "<style scoped>\n",
       "    .dataframe tbody tr th:only-of-type {\n",
       "        vertical-align: middle;\n",
       "    }\n",
       "\n",
       "    .dataframe tbody tr th {\n",
       "        vertical-align: top;\n",
       "    }\n",
       "\n",
       "    .dataframe thead th {\n",
       "        text-align: right;\n",
       "    }\n",
       "</style>\n",
       "<table border=\"1\" class=\"dataframe\">\n",
       "  <thead>\n",
       "    <tr style=\"text-align: right;\">\n",
       "      <th></th>\n",
       "      <th>Nome</th>\n",
       "      <th>Idade</th>\n",
       "      <th>Notas</th>\n",
       "      <th>Aprovado</th>\n",
       "    </tr>\n",
       "  </thead>\n",
       "  <tbody>\n",
       "    <tr>\n",
       "      <th>13</th>\n",
       "      <td>Mirla</td>\n",
       "      <td>25</td>\n",
       "      <td>9.0</td>\n",
       "      <td>True</td>\n",
       "    </tr>\n",
       "    <tr>\n",
       "      <th>14</th>\n",
       "      <td>Paulo</td>\n",
       "      <td>37</td>\n",
       "      <td>NaN</td>\n",
       "      <td>False</td>\n",
       "    </tr>\n",
       "    <tr>\n",
       "      <th>15</th>\n",
       "      <td>Mylena</td>\n",
       "      <td>29</td>\n",
       "      <td>7.0</td>\n",
       "      <td>True</td>\n",
       "    </tr>\n",
       "    <tr>\n",
       "      <th>16</th>\n",
       "      <td>Lucas</td>\n",
       "      <td>33</td>\n",
       "      <td>NaN</td>\n",
       "      <td>False</td>\n",
       "    </tr>\n",
       "    <tr>\n",
       "      <th>17</th>\n",
       "      <td>Nadia</td>\n",
       "      <td>34</td>\n",
       "      <td>8.0</td>\n",
       "      <td>True</td>\n",
       "    </tr>\n",
       "  </tbody>\n",
       "</table>\n",
       "</div>"
      ]
     },
     "execution_count": 4,
     "metadata": {},
     "output_type": "execute_result"
    }
   ],
   "execution_count": 4
  },
  {
   "cell_type": "markdown",
   "metadata": {
    "id": "5h6GhVJJKZZn"
   },
   "source": [
    "### Desafio 3\n",
    "Confira a quantidade de linhas e colunas do DataFrame"
   ]
  },
  {
   "cell_type": "code",
   "metadata": {
    "id": "Na2Hb-rlKfBy",
    "ExecuteTime": {
     "end_time": "2025-02-15T18:56:10.088821Z",
     "start_time": "2025-02-15T18:56:10.082963Z"
    }
   },
   "source": [
    "dados.shape"
   ],
   "outputs": [
    {
     "data": {
      "text/plain": [
       "(18, 4)"
      ]
     },
     "execution_count": 5,
     "metadata": {},
     "output_type": "execute_result"
    }
   ],
   "execution_count": 5
  },
  {
   "cell_type": "markdown",
   "metadata": {
    "id": "ci0j5pcMKgbr"
   },
   "source": [
    "### Desafio 4\n",
    "Explore as colunas do DataFrame e analise os tipos dos dados presentes em cada coluna"
   ]
  },
  {
   "cell_type": "code",
   "metadata": {
    "id": "BcZUf6dwKjk7",
    "ExecuteTime": {
     "end_time": "2025-02-15T18:56:10.169413Z",
     "start_time": "2025-02-15T18:56:10.156238Z"
    }
   },
   "source": [
    "dados.info()"
   ],
   "outputs": [
    {
     "name": "stdout",
     "output_type": "stream",
     "text": [
      "<class 'pandas.core.frame.DataFrame'>\n",
      "RangeIndex: 18 entries, 0 to 17\n",
      "Data columns (total 4 columns):\n",
      " #   Column    Non-Null Count  Dtype  \n",
      "---  ------    --------------  -----  \n",
      " 0   Nome      18 non-null     object \n",
      " 1   Idade     18 non-null     int64  \n",
      " 2   Notas     12 non-null     float64\n",
      " 3   Aprovado  18 non-null     bool   \n",
      "dtypes: bool(1), float64(1), int64(1), object(1)\n",
      "memory usage: 582.0+ bytes\n"
     ]
    }
   ],
   "execution_count": 6
  },
  {
   "cell_type": "code",
   "metadata": {
    "id": "QHCBKee6Kkj7",
    "ExecuteTime": {
     "end_time": "2025-02-15T18:56:10.339022Z",
     "start_time": "2025-02-15T18:56:10.331022Z"
    }
   },
   "source": [
    "dados['Nome']"
   ],
   "outputs": [
    {
     "data": {
      "text/plain": [
       "0           Ary\n",
       "1           Ana\n",
       "2         Cátia\n",
       "3         Denis\n",
       "4          Beto\n",
       "5         Bruna\n",
       "6          Dara\n",
       "7        Carlos\n",
       "8         Alice\n",
       "9         Vitor\n",
       "10       Daniel\n",
       "11         Igor\n",
       "12    Sthefanie\n",
       "13        Mirla\n",
       "14        Paulo\n",
       "15       Mylena\n",
       "16        Lucas\n",
       "17        Nadia\n",
       "Name: Nome, dtype: object"
      ]
     },
     "execution_count": 7,
     "metadata": {},
     "output_type": "execute_result"
    }
   ],
   "execution_count": 7
  },
  {
   "cell_type": "code",
   "metadata": {
    "id": "xPQMDDaVKlLB",
    "ExecuteTime": {
     "end_time": "2025-02-15T18:56:10.470001Z",
     "start_time": "2025-02-15T18:56:10.454988Z"
    }
   },
   "source": [
    "dados[['Notas', 'Idade']]"
   ],
   "outputs": [
    {
     "data": {
      "text/plain": [
       "    Notas  Idade\n",
       "0     7.5     20\n",
       "1     NaN     18\n",
       "2     2.5     27\n",
       "3     5.0     18\n",
       "4    10.0     21\n",
       "5     NaN     23\n",
       "6     7.0     21\n",
       "7     6.0     19\n",
       "8     5.6     35\n",
       "9     NaN     28\n",
       "10    NaN     21\n",
       "11    4.5     24\n",
       "12    9.5     26\n",
       "13    9.0     25\n",
       "14    NaN     37\n",
       "15    7.0     29\n",
       "16    NaN     33\n",
       "17    8.0     34"
      ],
      "text/html": [
       "<div>\n",
       "<style scoped>\n",
       "    .dataframe tbody tr th:only-of-type {\n",
       "        vertical-align: middle;\n",
       "    }\n",
       "\n",
       "    .dataframe tbody tr th {\n",
       "        vertical-align: top;\n",
       "    }\n",
       "\n",
       "    .dataframe thead th {\n",
       "        text-align: right;\n",
       "    }\n",
       "</style>\n",
       "<table border=\"1\" class=\"dataframe\">\n",
       "  <thead>\n",
       "    <tr style=\"text-align: right;\">\n",
       "      <th></th>\n",
       "      <th>Notas</th>\n",
       "      <th>Idade</th>\n",
       "    </tr>\n",
       "  </thead>\n",
       "  <tbody>\n",
       "    <tr>\n",
       "      <th>0</th>\n",
       "      <td>7.5</td>\n",
       "      <td>20</td>\n",
       "    </tr>\n",
       "    <tr>\n",
       "      <th>1</th>\n",
       "      <td>NaN</td>\n",
       "      <td>18</td>\n",
       "    </tr>\n",
       "    <tr>\n",
       "      <th>2</th>\n",
       "      <td>2.5</td>\n",
       "      <td>27</td>\n",
       "    </tr>\n",
       "    <tr>\n",
       "      <th>3</th>\n",
       "      <td>5.0</td>\n",
       "      <td>18</td>\n",
       "    </tr>\n",
       "    <tr>\n",
       "      <th>4</th>\n",
       "      <td>10.0</td>\n",
       "      <td>21</td>\n",
       "    </tr>\n",
       "    <tr>\n",
       "      <th>5</th>\n",
       "      <td>NaN</td>\n",
       "      <td>23</td>\n",
       "    </tr>\n",
       "    <tr>\n",
       "      <th>6</th>\n",
       "      <td>7.0</td>\n",
       "      <td>21</td>\n",
       "    </tr>\n",
       "    <tr>\n",
       "      <th>7</th>\n",
       "      <td>6.0</td>\n",
       "      <td>19</td>\n",
       "    </tr>\n",
       "    <tr>\n",
       "      <th>8</th>\n",
       "      <td>5.6</td>\n",
       "      <td>35</td>\n",
       "    </tr>\n",
       "    <tr>\n",
       "      <th>9</th>\n",
       "      <td>NaN</td>\n",
       "      <td>28</td>\n",
       "    </tr>\n",
       "    <tr>\n",
       "      <th>10</th>\n",
       "      <td>NaN</td>\n",
       "      <td>21</td>\n",
       "    </tr>\n",
       "    <tr>\n",
       "      <th>11</th>\n",
       "      <td>4.5</td>\n",
       "      <td>24</td>\n",
       "    </tr>\n",
       "    <tr>\n",
       "      <th>12</th>\n",
       "      <td>9.5</td>\n",
       "      <td>26</td>\n",
       "    </tr>\n",
       "    <tr>\n",
       "      <th>13</th>\n",
       "      <td>9.0</td>\n",
       "      <td>25</td>\n",
       "    </tr>\n",
       "    <tr>\n",
       "      <th>14</th>\n",
       "      <td>NaN</td>\n",
       "      <td>37</td>\n",
       "    </tr>\n",
       "    <tr>\n",
       "      <th>15</th>\n",
       "      <td>7.0</td>\n",
       "      <td>29</td>\n",
       "    </tr>\n",
       "    <tr>\n",
       "      <th>16</th>\n",
       "      <td>NaN</td>\n",
       "      <td>33</td>\n",
       "    </tr>\n",
       "    <tr>\n",
       "      <th>17</th>\n",
       "      <td>8.0</td>\n",
       "      <td>34</td>\n",
       "    </tr>\n",
       "  </tbody>\n",
       "</table>\n",
       "</div>"
      ]
     },
     "execution_count": 8,
     "metadata": {},
     "output_type": "execute_result"
    }
   ],
   "execution_count": 8
  },
  {
   "cell_type": "code",
   "metadata": {
    "id": "SFHoqZvlKldl",
    "ExecuteTime": {
     "end_time": "2025-02-15T18:56:10.545504Z",
     "start_time": "2025-02-15T18:56:10.538054Z"
    }
   },
   "source": [
    "dados['Aprovado']"
   ],
   "outputs": [
    {
     "data": {
      "text/plain": [
       "0      True\n",
       "1     False\n",
       "2     False\n",
       "3     False\n",
       "4      True\n",
       "5     False\n",
       "6      True\n",
       "7      True\n",
       "8     False\n",
       "9     False\n",
       "10    False\n",
       "11    False\n",
       "12     True\n",
       "13     True\n",
       "14    False\n",
       "15     True\n",
       "16    False\n",
       "17     True\n",
       "Name: Aprovado, dtype: bool"
      ]
     },
     "execution_count": 9,
     "metadata": {},
     "output_type": "execute_result"
    }
   ],
   "execution_count": 9
  },
  {
   "cell_type": "markdown",
   "metadata": {
    "id": "jR8mayuIKl0m"
   },
   "source": [
    "### **Extra**\n",
    "Calcule algumas estatísticas descritivas básicas dos dados do DataFrame (média, desvio padrão, etc) - Dica: pesquise pelo método **describe**"
   ]
  },
  {
   "cell_type": "code",
   "metadata": {
    "id": "tE07xd72KrE1",
    "ExecuteTime": {
     "end_time": "2025-02-15T18:56:10.711333Z",
     "start_time": "2025-02-15T18:56:10.697452Z"
    }
   },
   "source": [
    "dados.describe()"
   ],
   "outputs": [
    {
     "data": {
      "text/plain": [
       "           Idade      Notas\n",
       "count  18.000000  12.000000\n",
       "mean   25.500000   6.800000\n",
       "std     6.070662   2.204953\n",
       "min    18.000000   2.500000\n",
       "25%    21.000000   5.450000\n",
       "50%    24.500000   7.000000\n",
       "75%    28.750000   8.250000\n",
       "max    37.000000  10.000000"
      ],
      "text/html": [
       "<div>\n",
       "<style scoped>\n",
       "    .dataframe tbody tr th:only-of-type {\n",
       "        vertical-align: middle;\n",
       "    }\n",
       "\n",
       "    .dataframe tbody tr th {\n",
       "        vertical-align: top;\n",
       "    }\n",
       "\n",
       "    .dataframe thead th {\n",
       "        text-align: right;\n",
       "    }\n",
       "</style>\n",
       "<table border=\"1\" class=\"dataframe\">\n",
       "  <thead>\n",
       "    <tr style=\"text-align: right;\">\n",
       "      <th></th>\n",
       "      <th>Idade</th>\n",
       "      <th>Notas</th>\n",
       "    </tr>\n",
       "  </thead>\n",
       "  <tbody>\n",
       "    <tr>\n",
       "      <th>count</th>\n",
       "      <td>18.000000</td>\n",
       "      <td>12.000000</td>\n",
       "    </tr>\n",
       "    <tr>\n",
       "      <th>mean</th>\n",
       "      <td>25.500000</td>\n",
       "      <td>6.800000</td>\n",
       "    </tr>\n",
       "    <tr>\n",
       "      <th>std</th>\n",
       "      <td>6.070662</td>\n",
       "      <td>2.204953</td>\n",
       "    </tr>\n",
       "    <tr>\n",
       "      <th>min</th>\n",
       "      <td>18.000000</td>\n",
       "      <td>2.500000</td>\n",
       "    </tr>\n",
       "    <tr>\n",
       "      <th>25%</th>\n",
       "      <td>21.000000</td>\n",
       "      <td>5.450000</td>\n",
       "    </tr>\n",
       "    <tr>\n",
       "      <th>50%</th>\n",
       "      <td>24.500000</td>\n",
       "      <td>7.000000</td>\n",
       "    </tr>\n",
       "    <tr>\n",
       "      <th>75%</th>\n",
       "      <td>28.750000</td>\n",
       "      <td>8.250000</td>\n",
       "    </tr>\n",
       "    <tr>\n",
       "      <th>max</th>\n",
       "      <td>37.000000</td>\n",
       "      <td>10.000000</td>\n",
       "    </tr>\n",
       "  </tbody>\n",
       "</table>\n",
       "</div>"
      ]
     },
     "execution_count": 10,
     "metadata": {},
     "output_type": "execute_result"
    }
   ],
   "execution_count": 10
  },
  {
   "cell_type": "markdown",
   "metadata": {
    "id": "uMA6kKxSKtZ6"
   },
   "source": [
    "## Aula 2: Análise exploratória dos dados"
   ]
  },
  {
   "cell_type": "markdown",
   "metadata": {
    "id": "eQ6g_wYOiHSM"
   },
   "source": [
    "Para os desafios dessa aula, vamos utilizar a mesma base de dados que estamos utilizando para o desenvolvimento do nosso projeto. Sendo assim, na célula abaixo vamos realizar a importação dessa base de dados e aplicar as transformações já realizadas até o momento da aula 2."
   ]
  },
  {
   "cell_type": "code",
   "metadata": {
    "id": "k0kz48JCgTep",
    "ExecuteTime": {
     "end_time": "2025-02-15T18:56:10.808552Z",
     "start_time": "2025-02-15T18:56:10.804468Z"
    }
   },
   "source": [
    "import pandas as pd"
   ],
   "outputs": [],
   "execution_count": 11
  },
  {
   "cell_type": "code",
   "metadata": {
    "id": "dUODdE3QidZ_",
    "ExecuteTime": {
     "end_time": "2025-02-15T18:56:11.164824Z",
     "start_time": "2025-02-15T18:56:10.978062Z"
    }
   },
   "source": [
    "# importando a base de dados\n",
    "url = 'https://raw.githubusercontent.com/KelvynAmaral/jornada_pandas/refs/heads/main/datasets/Imobiliaria.csv'\n",
    "dados = pd.read_csv(url, sep=',')"
   ],
   "outputs": [],
   "execution_count": 12
  },
  {
   "metadata": {
    "ExecuteTime": {
     "end_time": "2025-02-15T18:56:11.231741Z",
     "start_time": "2025-02-15T18:56:11.217926Z"
    }
   },
   "cell_type": "code",
   "source": "dados.head(2)",
   "outputs": [
    {
     "data": {
      "text/plain": [
       "        Tipo           Bairro  Quartos  Vagas  Suites  Area   Valor  \\\n",
       "0  Quitinete       Copacabana        1      0       0    40  1700.0   \n",
       "1       Casa  Jardim Botânico        2      0       1   100  7000.0   \n",
       "\n",
       "   Condominio  IPTU  \n",
       "0       500.0  60.0  \n",
       "1         NaN   NaN  "
      ],
      "text/html": [
       "<div>\n",
       "<style scoped>\n",
       "    .dataframe tbody tr th:only-of-type {\n",
       "        vertical-align: middle;\n",
       "    }\n",
       "\n",
       "    .dataframe tbody tr th {\n",
       "        vertical-align: top;\n",
       "    }\n",
       "\n",
       "    .dataframe thead th {\n",
       "        text-align: right;\n",
       "    }\n",
       "</style>\n",
       "<table border=\"1\" class=\"dataframe\">\n",
       "  <thead>\n",
       "    <tr style=\"text-align: right;\">\n",
       "      <th></th>\n",
       "      <th>Tipo</th>\n",
       "      <th>Bairro</th>\n",
       "      <th>Quartos</th>\n",
       "      <th>Vagas</th>\n",
       "      <th>Suites</th>\n",
       "      <th>Area</th>\n",
       "      <th>Valor</th>\n",
       "      <th>Condominio</th>\n",
       "      <th>IPTU</th>\n",
       "    </tr>\n",
       "  </thead>\n",
       "  <tbody>\n",
       "    <tr>\n",
       "      <th>0</th>\n",
       "      <td>Quitinete</td>\n",
       "      <td>Copacabana</td>\n",
       "      <td>1</td>\n",
       "      <td>0</td>\n",
       "      <td>0</td>\n",
       "      <td>40</td>\n",
       "      <td>1700.0</td>\n",
       "      <td>500.0</td>\n",
       "      <td>60.0</td>\n",
       "    </tr>\n",
       "    <tr>\n",
       "      <th>1</th>\n",
       "      <td>Casa</td>\n",
       "      <td>Jardim Botânico</td>\n",
       "      <td>2</td>\n",
       "      <td>0</td>\n",
       "      <td>1</td>\n",
       "      <td>100</td>\n",
       "      <td>7000.0</td>\n",
       "      <td>NaN</td>\n",
       "      <td>NaN</td>\n",
       "    </tr>\n",
       "  </tbody>\n",
       "</table>\n",
       "</div>"
      ]
     },
     "execution_count": 13,
     "metadata": {},
     "output_type": "execute_result"
    }
   ],
   "execution_count": 13
  },
  {
   "cell_type": "code",
   "metadata": {
    "colab": {
     "base_uri": "https://localhost:8080/",
     "height": 206
    },
    "id": "y-FDJ89Fi444",
    "outputId": "bab8f8c8-4740-4c68-d405-bd2d77a88dd0",
    "ExecuteTime": {
     "end_time": "2025-02-15T18:56:11.319644Z",
     "start_time": "2025-02-15T18:56:11.305649Z"
    }
   },
   "source": [
    "imoveis_comerciais = ['Conjunto Comercial/Sala', \n",
    "                      'Prédio Inteiro', 'Loja/Salão', \n",
    "                      'Galpão/Depósito/Armazém', \n",
    "                      'Casa Comercial', 'Terreno Padrão',\n",
    "                      'Loja Shopping/ Ct Comercial',\n",
    "                      'Box/Garagem', 'Chácara',\n",
    "                      'Loteamento/Condomínio', 'Sítio',\n",
    "                      'Pousada/Chalé', 'Hotel', 'Indústria']\n",
    "                      \n",
    "# removendo imóveis comerciais\n",
    "df = dados.query('Tipo not in @imoveis_comerciais')\n"
   ],
   "outputs": [],
   "execution_count": 14
  },
  {
   "metadata": {
    "ExecuteTime": {
     "end_time": "2025-02-15T18:56:11.388445Z",
     "start_time": "2025-02-15T18:56:11.374438Z"
    }
   },
   "cell_type": "code",
   "source": "df.head(2)",
   "outputs": [
    {
     "data": {
      "text/plain": [
       "        Tipo           Bairro  Quartos  Vagas  Suites  Area   Valor  \\\n",
       "0  Quitinete       Copacabana        1      0       0    40  1700.0   \n",
       "1       Casa  Jardim Botânico        2      0       1   100  7000.0   \n",
       "\n",
       "   Condominio  IPTU  \n",
       "0       500.0  60.0  \n",
       "1         NaN   NaN  "
      ],
      "text/html": [
       "<div>\n",
       "<style scoped>\n",
       "    .dataframe tbody tr th:only-of-type {\n",
       "        vertical-align: middle;\n",
       "    }\n",
       "\n",
       "    .dataframe tbody tr th {\n",
       "        vertical-align: top;\n",
       "    }\n",
       "\n",
       "    .dataframe thead th {\n",
       "        text-align: right;\n",
       "    }\n",
       "</style>\n",
       "<table border=\"1\" class=\"dataframe\">\n",
       "  <thead>\n",
       "    <tr style=\"text-align: right;\">\n",
       "      <th></th>\n",
       "      <th>Tipo</th>\n",
       "      <th>Bairro</th>\n",
       "      <th>Quartos</th>\n",
       "      <th>Vagas</th>\n",
       "      <th>Suites</th>\n",
       "      <th>Area</th>\n",
       "      <th>Valor</th>\n",
       "      <th>Condominio</th>\n",
       "      <th>IPTU</th>\n",
       "    </tr>\n",
       "  </thead>\n",
       "  <tbody>\n",
       "    <tr>\n",
       "      <th>0</th>\n",
       "      <td>Quitinete</td>\n",
       "      <td>Copacabana</td>\n",
       "      <td>1</td>\n",
       "      <td>0</td>\n",
       "      <td>0</td>\n",
       "      <td>40</td>\n",
       "      <td>1700.0</td>\n",
       "      <td>500.0</td>\n",
       "      <td>60.0</td>\n",
       "    </tr>\n",
       "    <tr>\n",
       "      <th>1</th>\n",
       "      <td>Casa</td>\n",
       "      <td>Jardim Botânico</td>\n",
       "      <td>2</td>\n",
       "      <td>0</td>\n",
       "      <td>1</td>\n",
       "      <td>100</td>\n",
       "      <td>7000.0</td>\n",
       "      <td>NaN</td>\n",
       "      <td>NaN</td>\n",
       "    </tr>\n",
       "  </tbody>\n",
       "</table>\n",
       "</div>"
      ]
     },
     "execution_count": 15,
     "metadata": {},
     "output_type": "execute_result"
    }
   ],
   "execution_count": 15
  },
  {
   "metadata": {
    "ExecuteTime": {
     "end_time": "2025-02-15T18:56:11.502790Z",
     "start_time": "2025-02-15T18:56:11.491529Z"
    }
   },
   "cell_type": "code",
   "source": "df_apartamentos = dados.query('Tipo == \"Apartamento\"')",
   "outputs": [],
   "execution_count": 16
  },
  {
   "cell_type": "markdown",
   "metadata": {
    "id": "0UIfl11Th0em"
   },
   "source": [
    "### Desafio 1\n",
    "Calcular a média de quartos por apartamento"
   ]
  },
  {
   "cell_type": "code",
   "metadata": {
    "id": "VqilmozQKxyM",
    "ExecuteTime": {
     "end_time": "2025-02-15T18:56:11.570051Z",
     "start_time": "2025-02-15T18:56:11.563560Z"
    }
   },
   "source": "print('A media de quartos por apartamento é:', df_apartamentos['Quartos'].mean().round(2))",
   "outputs": [
    {
     "name": "stdout",
     "output_type": "stream",
     "text": [
      "A media de quartos por apartamento é: 2.48\n"
     ]
    }
   ],
   "execution_count": 17
  },
  {
   "cell_type": "markdown",
   "metadata": {
    "id": "QHOiAeNKh3eZ"
   },
   "source": [
    "### Desafio 2\n",
    "Conferir quantos bairros únicos existem na nossa base de dados"
   ]
  },
  {
   "cell_type": "code",
   "metadata": {
    "id": "OC5iNZ1NjF15",
    "ExecuteTime": {
     "end_time": "2025-02-15T18:56:11.682782Z",
     "start_time": "2025-02-15T18:56:11.675631Z"
    }
   },
   "source": "print('Quantidade de bairros unicos:', df['Bairro'].nunique())",
   "outputs": [
    {
     "name": "stdout",
     "output_type": "stream",
     "text": [
      "Quantidade de bairros unicos: 154\n"
     ]
    }
   ],
   "execution_count": 18
  },
  {
   "cell_type": "code",
   "metadata": {
    "id": "op-9fs_4h7Zk",
    "ExecuteTime": {
     "end_time": "2025-02-15T18:56:11.747402Z",
     "start_time": "2025-02-15T18:56:11.740963Z"
    }
   },
   "source": "print('Bairros unicos:', df['Bairro'].unique())",
   "outputs": [
    {
     "name": "stdout",
     "output_type": "stream",
     "text": [
      "Bairros unicos: ['Copacabana' 'Jardim Botânico' 'Centro' 'Higienópolis' 'Vista Alegre'\n",
      " 'Cachambi' 'Barra da Tijuca' 'Ramos' 'Grajaú' 'Lins de Vasconcelos'\n",
      " 'Botafogo' 'Taquara' 'Freguesia (Jacarepaguá)' 'Tijuca' 'Olaria' 'Leblon'\n",
      " 'Ipanema' 'Campo Grande' 'Recreio dos Bandeirantes' 'Jardim Oceânico'\n",
      " 'Humaitá' 'Península' 'Méier' 'Vargem Pequena' 'Maracanã' 'Jacarepaguá'\n",
      " 'São Conrado' 'Vila Valqueire' 'Gávea' 'Cosme Velho' 'Bonsucesso'\n",
      " 'Todos os Santos' 'Laranjeiras' 'Itanhangá' 'Flamengo' 'Praça Seca'\n",
      " 'Piedade' 'Lagoa' 'Catete' 'Jardim Carioca' 'Benfica' 'Glória'\n",
      " 'Vila Isabel' 'Rocha Miranda' 'Engenho Novo' 'Engenho de Dentro'\n",
      " 'Cidade Nova' 'Pilares' 'Arpoador' 'Tomás Coelho' 'Água Santa'\n",
      " 'São Cristóvão' 'Ilha do Governador' 'Jardim Sulacap' 'Oswaldo Cruz'\n",
      " 'Vila da Penha' 'Anil' 'Vargem Grande' 'Tanque' 'Vaz Lobo' 'Madureira'\n",
      " 'São Francisco Xavier' 'Pechincha' 'Leme' 'Irajá' 'Quintino Bocaiúva'\n",
      " 'Urca' 'Penha' 'Gardênia Azul' 'Rio Comprido' 'Andaraí' 'Santa Teresa'\n",
      " 'Inhaúma' 'Marechal Hermes' 'Curicica' 'Santíssimo' 'Moneró'\n",
      " 'Jardim Guanabara' 'Camorim' 'Cascadura' 'Praia da Bandeira' 'Saúde'\n",
      " 'Joá' 'Colégio' 'Guadalupe' 'Realengo' 'Fátima' 'Inhoaíba' 'Rocha'\n",
      " 'Jabour' 'Braz de Pina' 'Vicente de Carvalho' 'Praça da Bandeira'\n",
      " 'Vila Kosmos' 'Encantado' 'Campinho' 'Ricardo de Albuquerque' 'Guaratiba'\n",
      " 'Riachuelo' 'Bangu' 'Lapa' 'Catumbi' 'Penha Circular' 'Parque Anchieta'\n",
      " 'Abolição' 'Pavuna' 'Santa Cruz' 'Alto da Boa Vista' 'Bento Ribeiro'\n",
      " 'Estácio' 'Jardim América' 'Cordovil' 'Caju' 'Pedra de Guaratiba'\n",
      " 'Padre Miguel' 'Paciência' 'Del Castilho' 'Sampaio' 'Anchieta' 'Icaraí'\n",
      " 'Senador Vasconcelos' 'Gamboa' 'Maria da Graça' 'Barra de Guaratiba'\n",
      " 'Paquetá' 'Largo do Machado' 'Parada de Lucas' 'Turiaçu'\n",
      " 'Freguesia (Ilha do Governador)' 'Portuguesa' 'Honório Gurgel'\n",
      " 'Santo Cristo' 'Pitangueiras' 'Vila Militar' 'Vidigal' 'Senador Camará'\n",
      " 'Usina' 'Vigário Geral' 'Cosmos' 'Jacaré' 'Cocotá' 'Engenho da Rainha'\n",
      " 'Cachamorra' 'Zumbi' 'Tauá' 'Ribeira' 'Magalhães Bastos' 'Cacuia'\n",
      " 'Bancários' 'Cavalcanti' 'Rio da Prata' 'Cidade Jardim' 'Coelho Neto'\n",
      " 'Grumari']\n"
     ]
    }
   ],
   "execution_count": 19
  },
  {
   "cell_type": "markdown",
   "metadata": {
    "id": "TXHm9F56h73J"
   },
   "source": [
    "### Desafio 3\n",
    "Analisar quais bairros possuem a média de valor de aluguel mais elevadas"
   ]
  },
  {
   "cell_type": "code",
   "metadata": {
    "id": "0FWQkKEPh_1M",
    "ExecuteTime": {
     "end_time": "2025-02-15T18:56:11.821593Z",
     "start_time": "2025-02-15T18:56:11.811477Z"
    }
   },
   "source": [
    "print('Média de valor de aluguel mais elevadas por',\n",
    "      df.groupby('Bairro')['Valor'].mean().round(2).sort_values(ascending=False).head(5))"
   ],
   "outputs": [
    {
     "name": "stdout",
     "output_type": "stream",
     "text": [
      "Média de valor de aluguel mais elevadas por Bairro\n",
      "Joá              16773.48\n",
      "Cidade Jardim    12000.00\n",
      "Arpoador         10896.06\n",
      "Paquetá          10550.00\n",
      "Ipanema           9196.12\n",
      "Name: Valor, dtype: float64\n"
     ]
    }
   ],
   "execution_count": 20
  },
  {
   "cell_type": "markdown",
   "metadata": {
    "id": "hosuaZ-aiBHB"
   },
   "source": [
    "### Desafio 4\n",
    "Criar um gráfico de barras verticais que apresente os 5 bairros com a média de valor de aluguel mais elevadas"
   ]
  },
  {
   "cell_type": "code",
   "metadata": {
    "id": "M7UR4aTBl2nR",
    "ExecuteTime": {
     "end_time": "2025-02-15T18:56:11.899990Z",
     "start_time": "2025-02-15T18:56:11.889991Z"
    }
   },
   "source": "media_aluguel_elevado = df.groupby('Bairro')['Valor'].mean().round(2).sort_values(ascending=False)",
   "outputs": [],
   "execution_count": 21
  },
  {
   "cell_type": "code",
   "metadata": {
    "id": "u-HoqFKTiESM",
    "ExecuteTime": {
     "end_time": "2025-02-15T18:56:12.086417Z",
     "start_time": "2025-02-15T18:56:11.937153Z"
    }
   },
   "source": "media_aluguel_elevado.head(5).plot(kind='bar', figsize=(6,4), color='green')",
   "outputs": [
    {
     "data": {
      "text/plain": [
       "<Axes: xlabel='Bairro'>"
      ]
     },
     "execution_count": 22,
     "metadata": {},
     "output_type": "execute_result"
    },
    {
     "data": {
      "text/plain": [
       "<Figure size 600x400 with 1 Axes>"
      ],
      "image/png": "[encoded data removed]"
     },
     "metadata": {},
     "output_type": "display_data"
    }
   ],
   "execution_count": 22
  },
  {
   "cell_type": "code",
   "metadata": {
    "id": "7j3wyG0ZklNE",
    "ExecuteTime": {
     "end_time": "2025-02-15T18:56:12.236582Z",
     "start_time": "2025-02-15T18:56:12.103564Z"
    }
   },
   "source": [
    "media_aluguel_elevado.head(5).plot(kind='bar', figsize=(6,4), color='green')\n",
    "plt.xlabel('Bairro')\n",
    "plt.ylabel('Valor do aluguel')\n",
    "plt.title = 'Média de valor de aluguel mais elevadas por bairro'\n",
    "plt.show()"
   ],
   "outputs": [
    {
     "data": {
      "text/plain": [
       "<Figure size 600x400 with 1 Axes>"
      ],
      "image/png": "[encoded data removed]"
     },
     "metadata": {},
     "output_type": "display_data"
    }
   ],
   "execution_count": 23
  },
  {
   "cell_type": "markdown",
   "metadata": {
    "id": "uS2xqXtlZ6wK"
   },
   "source": [
    "## Aula 3\n",
    "\n",
    "Importe novamente o arquivo [**alunos.csv**](https://raw.githubusercontent.com/alura-cursos/pandas-conhecendo-a-biblioteca/main/desafios/alunos.csv) para realizar os desafios abaixo."
   ]
  },
  {
   "cell_type": "code",
   "metadata": {
    "id": "YqltopXyZ-Zf",
    "ExecuteTime": {
     "end_time": "2025-02-15T18:56:12.314877Z",
     "start_time": "2025-02-15T18:56:12.255444Z"
    }
   },
   "source": [
    "# Importando novamente os dados\n",
    "url = 'https://raw.githubusercontent.com/KelvynAmaral/jornada_pandas/refs/heads/main/datasets/alunos_salvos.csv'\n",
    "\n",
    "alunos = pd.read_csv(url, sep=',')\n"
   ],
   "outputs": [],
   "execution_count": 24
  },
  {
   "cell_type": "markdown",
   "metadata": {
    "id": "Yni8_fbgaGnE"
   },
   "source": [
    "### Desafio 1\n",
    "Verifique se a base de dados possui dados nulos e caso tenha, realize o tratamento desses dados nulos"
   ]
  },
  {
   "metadata": {
    "ExecuteTime": {
     "end_time": "2025-02-15T18:56:12.345631Z",
     "start_time": "2025-02-15T18:56:12.332135Z"
    }
   },
   "cell_type": "code",
   "source": "alunos",
   "outputs": [
    {
     "data": {
      "text/plain": [
       "         Nome  Idade  Notas  Aprovado\n",
       "0         Ary     20    7.5      True\n",
       "1         Ana     18    NaN     False\n",
       "2       Cátia     27    2.5     False\n",
       "3       Denis     18    5.0     False\n",
       "4        Beto     21   10.0      True\n",
       "5       Bruna     23    NaN     False\n",
       "6        Dara     21    7.0      True\n",
       "7      Carlos     19    6.0      True\n",
       "8       Alice     35    5.6     False\n",
       "9       Vitor     28    NaN     False\n",
       "10     Daniel     21    NaN     False\n",
       "11       Igor     24    4.5     False\n",
       "12  Sthefanie     26    9.5      True\n",
       "13      Mirla     25    9.0      True\n",
       "14      Paulo     37    NaN     False\n",
       "15     Mylena     29    7.0      True\n",
       "16      Lucas     33    NaN     False\n",
       "17      Nadia     34    8.0      True"
      ],
      "text/html": [
       "<div>\n",
       "<style scoped>\n",
       "    .dataframe tbody tr th:only-of-type {\n",
       "        vertical-align: middle;\n",
       "    }\n",
       "\n",
       "    .dataframe tbody tr th {\n",
       "        vertical-align: top;\n",
       "    }\n",
       "\n",
       "    .dataframe thead th {\n",
       "        text-align: right;\n",
       "    }\n",
       "</style>\n",
       "<table border=\"1\" class=\"dataframe\">\n",
       "  <thead>\n",
       "    <tr style=\"text-align: right;\">\n",
       "      <th></th>\n",
       "      <th>Nome</th>\n",
       "      <th>Idade</th>\n",
       "      <th>Notas</th>\n",
       "      <th>Aprovado</th>\n",
       "    </tr>\n",
       "  </thead>\n",
       "  <tbody>\n",
       "    <tr>\n",
       "      <th>0</th>\n",
       "      <td>Ary</td>\n",
       "      <td>20</td>\n",
       "      <td>7.5</td>\n",
       "      <td>True</td>\n",
       "    </tr>\n",
       "    <tr>\n",
       "      <th>1</th>\n",
       "      <td>Ana</td>\n",
       "      <td>18</td>\n",
       "      <td>NaN</td>\n",
       "      <td>False</td>\n",
       "    </tr>\n",
       "    <tr>\n",
       "      <th>2</th>\n",
       "      <td>Cátia</td>\n",
       "      <td>27</td>\n",
       "      <td>2.5</td>\n",
       "      <td>False</td>\n",
       "    </tr>\n",
       "    <tr>\n",
       "      <th>3</th>\n",
       "      <td>Denis</td>\n",
       "      <td>18</td>\n",
       "      <td>5.0</td>\n",
       "      <td>False</td>\n",
       "    </tr>\n",
       "    <tr>\n",
       "      <th>4</th>\n",
       "      <td>Beto</td>\n",
       "      <td>21</td>\n",
       "      <td>10.0</td>\n",
       "      <td>True</td>\n",
       "    </tr>\n",
       "    <tr>\n",
       "      <th>5</th>\n",
       "      <td>Bruna</td>\n",
       "      <td>23</td>\n",
       "      <td>NaN</td>\n",
       "      <td>False</td>\n",
       "    </tr>\n",
       "    <tr>\n",
       "      <th>6</th>\n",
       "      <td>Dara</td>\n",
       "      <td>21</td>\n",
       "      <td>7.0</td>\n",
       "      <td>True</td>\n",
       "    </tr>\n",
       "    <tr>\n",
       "      <th>7</th>\n",
       "      <td>Carlos</td>\n",
       "      <td>19</td>\n",
       "      <td>6.0</td>\n",
       "      <td>True</td>\n",
       "    </tr>\n",
       "    <tr>\n",
       "      <th>8</th>\n",
       "      <td>Alice</td>\n",
       "      <td>35</td>\n",
       "      <td>5.6</td>\n",
       "      <td>False</td>\n",
       "    </tr>\n",
       "    <tr>\n",
       "      <th>9</th>\n",
       "      <td>Vitor</td>\n",
       "      <td>28</td>\n",
       "      <td>NaN</td>\n",
       "      <td>False</td>\n",
       "    </tr>\n",
       "    <tr>\n",
       "      <th>10</th>\n",
       "      <td>Daniel</td>\n",
       "      <td>21</td>\n",
       "      <td>NaN</td>\n",
       "      <td>False</td>\n",
       "    </tr>\n",
       "    <tr>\n",
       "      <th>11</th>\n",
       "      <td>Igor</td>\n",
       "      <td>24</td>\n",
       "      <td>4.5</td>\n",
       "      <td>False</td>\n",
       "    </tr>\n",
       "    <tr>\n",
       "      <th>12</th>\n",
       "      <td>Sthefanie</td>\n",
       "      <td>26</td>\n",
       "      <td>9.5</td>\n",
       "      <td>True</td>\n",
       "    </tr>\n",
       "    <tr>\n",
       "      <th>13</th>\n",
       "      <td>Mirla</td>\n",
       "      <td>25</td>\n",
       "      <td>9.0</td>\n",
       "      <td>True</td>\n",
       "    </tr>\n",
       "    <tr>\n",
       "      <th>14</th>\n",
       "      <td>Paulo</td>\n",
       "      <td>37</td>\n",
       "      <td>NaN</td>\n",
       "      <td>False</td>\n",
       "    </tr>\n",
       "    <tr>\n",
       "      <th>15</th>\n",
       "      <td>Mylena</td>\n",
       "      <td>29</td>\n",
       "      <td>7.0</td>\n",
       "      <td>True</td>\n",
       "    </tr>\n",
       "    <tr>\n",
       "      <th>16</th>\n",
       "      <td>Lucas</td>\n",
       "      <td>33</td>\n",
       "      <td>NaN</td>\n",
       "      <td>False</td>\n",
       "    </tr>\n",
       "    <tr>\n",
       "      <th>17</th>\n",
       "      <td>Nadia</td>\n",
       "      <td>34</td>\n",
       "      <td>8.0</td>\n",
       "      <td>True</td>\n",
       "    </tr>\n",
       "  </tbody>\n",
       "</table>\n",
       "</div>"
      ]
     },
     "execution_count": 25,
     "metadata": {},
     "output_type": "execute_result"
    }
   ],
   "execution_count": 25
  },
  {
   "cell_type": "code",
   "metadata": {
    "id": "RJVGbJt6aFfe",
    "ExecuteTime": {
     "end_time": "2025-02-15T18:56:12.422435Z",
     "start_time": "2025-02-15T18:56:12.413265Z"
    }
   },
   "source": "alunos.isnull().sum()",
   "outputs": [
    {
     "data": {
      "text/plain": [
       "Nome        0\n",
       "Idade       0\n",
       "Notas       6\n",
       "Aprovado    0\n",
       "dtype: int64"
      ]
     },
     "execution_count": 26,
     "metadata": {},
     "output_type": "execute_result"
    }
   ],
   "execution_count": 26
  },
  {
   "cell_type": "code",
   "metadata": {
    "id": "JMRvNgXWa277",
    "ExecuteTime": {
     "end_time": "2025-02-15T18:56:12.524612Z",
     "start_time": "2025-02-15T18:56:12.519951Z"
    }
   },
   "source": "alunos['Notas'] = alunos['Notas'].fillna(0)",
   "outputs": [],
   "execution_count": 27
  },
  {
   "cell_type": "code",
   "metadata": {
    "id": "zCXdr4-8a75S",
    "ExecuteTime": {
     "end_time": "2025-02-15T18:56:12.618857Z",
     "start_time": "2025-02-15T18:56:12.608451Z"
    }
   },
   "source": "alunos.isnull().sum()",
   "outputs": [
    {
     "data": {
      "text/plain": [
       "Nome        0\n",
       "Idade       0\n",
       "Notas       0\n",
       "Aprovado    0\n",
       "dtype: int64"
      ]
     },
     "execution_count": 28,
     "metadata": {},
     "output_type": "execute_result"
    }
   ],
   "execution_count": 28
  },
  {
   "metadata": {
    "ExecuteTime": {
     "end_time": "2025-02-15T18:56:12.724551Z",
     "start_time": "2025-02-15T18:56:12.711858Z"
    }
   },
   "cell_type": "code",
   "source": "alunos.tail()",
   "outputs": [
    {
     "data": {
      "text/plain": [
       "      Nome  Idade  Notas  Aprovado\n",
       "13   Mirla     25    9.0      True\n",
       "14   Paulo     37    0.0     False\n",
       "15  Mylena     29    7.0      True\n",
       "16   Lucas     33    0.0     False\n",
       "17   Nadia     34    8.0      True"
      ],
      "text/html": [
       "<div>\n",
       "<style scoped>\n",
       "    .dataframe tbody tr th:only-of-type {\n",
       "        vertical-align: middle;\n",
       "    }\n",
       "\n",
       "    .dataframe tbody tr th {\n",
       "        vertical-align: top;\n",
       "    }\n",
       "\n",
       "    .dataframe thead th {\n",
       "        text-align: right;\n",
       "    }\n",
       "</style>\n",
       "<table border=\"1\" class=\"dataframe\">\n",
       "  <thead>\n",
       "    <tr style=\"text-align: right;\">\n",
       "      <th></th>\n",
       "      <th>Nome</th>\n",
       "      <th>Idade</th>\n",
       "      <th>Notas</th>\n",
       "      <th>Aprovado</th>\n",
       "    </tr>\n",
       "  </thead>\n",
       "  <tbody>\n",
       "    <tr>\n",
       "      <th>13</th>\n",
       "      <td>Mirla</td>\n",
       "      <td>25</td>\n",
       "      <td>9.0</td>\n",
       "      <td>True</td>\n",
       "    </tr>\n",
       "    <tr>\n",
       "      <th>14</th>\n",
       "      <td>Paulo</td>\n",
       "      <td>37</td>\n",
       "      <td>0.0</td>\n",
       "      <td>False</td>\n",
       "    </tr>\n",
       "    <tr>\n",
       "      <th>15</th>\n",
       "      <td>Mylena</td>\n",
       "      <td>29</td>\n",
       "      <td>7.0</td>\n",
       "      <td>True</td>\n",
       "    </tr>\n",
       "    <tr>\n",
       "      <th>16</th>\n",
       "      <td>Lucas</td>\n",
       "      <td>33</td>\n",
       "      <td>0.0</td>\n",
       "      <td>False</td>\n",
       "    </tr>\n",
       "    <tr>\n",
       "      <th>17</th>\n",
       "      <td>Nadia</td>\n",
       "      <td>34</td>\n",
       "      <td>8.0</td>\n",
       "      <td>True</td>\n",
       "    </tr>\n",
       "  </tbody>\n",
       "</table>\n",
       "</div>"
      ]
     },
     "execution_count": 29,
     "metadata": {},
     "output_type": "execute_result"
    }
   ],
   "execution_count": 29
  },
  {
   "cell_type": "markdown",
   "metadata": {
    "id": "EEyzMqp2aZDl"
   },
   "source": [
    "### Desafio 2\n",
    "Os alunos \"Alice\" e \"Carlos\", não fazem mais parte da turma. Sendo assim, remova-os da base de dados"
   ]
  },
  {
   "cell_type": "code",
   "metadata": {
    "id": "gcnTcLGeaflO",
    "ExecuteTime": {
     "end_time": "2025-02-15T18:56:12.847028Z",
     "start_time": "2025-02-15T18:56:12.837802Z"
    }
   },
   "source": "alunos_remover = alunos.query('Nome == \"Alice\" | Nome == \"Carlos\"').index",
   "outputs": [],
   "execution_count": 30
  },
  {
   "cell_type": "code",
   "metadata": {
    "id": "7fQ5RIs8bLf2",
    "ExecuteTime": {
     "end_time": "2025-02-15T18:56:12.962452Z",
     "start_time": "2025-02-15T18:56:12.956898Z"
    }
   },
   "source": "alunos.drop(alunos_remover, inplace=True)",
   "outputs": [],
   "execution_count": 31
  },
  {
   "cell_type": "code",
   "metadata": {
    "id": "h2rhaQaNbNG6",
    "ExecuteTime": {
     "end_time": "2025-02-15T18:56:13.097075Z",
     "start_time": "2025-02-15T18:56:13.087169Z"
    }
   },
   "source": "alunos.head()",
   "outputs": [
    {
     "data": {
      "text/plain": [
       "    Nome  Idade  Notas  Aprovado\n",
       "0    Ary     20    7.5      True\n",
       "1    Ana     18    0.0     False\n",
       "2  Cátia     27    2.5     False\n",
       "3  Denis     18    5.0     False\n",
       "4   Beto     21   10.0      True"
      ],
      "text/html": [
       "<div>\n",
       "<style scoped>\n",
       "    .dataframe tbody tr th:only-of-type {\n",
       "        vertical-align: middle;\n",
       "    }\n",
       "\n",
       "    .dataframe tbody tr th {\n",
       "        vertical-align: top;\n",
       "    }\n",
       "\n",
       "    .dataframe thead th {\n",
       "        text-align: right;\n",
       "    }\n",
       "</style>\n",
       "<table border=\"1\" class=\"dataframe\">\n",
       "  <thead>\n",
       "    <tr style=\"text-align: right;\">\n",
       "      <th></th>\n",
       "      <th>Nome</th>\n",
       "      <th>Idade</th>\n",
       "      <th>Notas</th>\n",
       "      <th>Aprovado</th>\n",
       "    </tr>\n",
       "  </thead>\n",
       "  <tbody>\n",
       "    <tr>\n",
       "      <th>0</th>\n",
       "      <td>Ary</td>\n",
       "      <td>20</td>\n",
       "      <td>7.5</td>\n",
       "      <td>True</td>\n",
       "    </tr>\n",
       "    <tr>\n",
       "      <th>1</th>\n",
       "      <td>Ana</td>\n",
       "      <td>18</td>\n",
       "      <td>0.0</td>\n",
       "      <td>False</td>\n",
       "    </tr>\n",
       "    <tr>\n",
       "      <th>2</th>\n",
       "      <td>Cátia</td>\n",
       "      <td>27</td>\n",
       "      <td>2.5</td>\n",
       "      <td>False</td>\n",
       "    </tr>\n",
       "    <tr>\n",
       "      <th>3</th>\n",
       "      <td>Denis</td>\n",
       "      <td>18</td>\n",
       "      <td>5.0</td>\n",
       "      <td>False</td>\n",
       "    </tr>\n",
       "    <tr>\n",
       "      <th>4</th>\n",
       "      <td>Beto</td>\n",
       "      <td>21</td>\n",
       "      <td>10.0</td>\n",
       "      <td>True</td>\n",
       "    </tr>\n",
       "  </tbody>\n",
       "</table>\n",
       "</div>"
      ]
     },
     "execution_count": 32,
     "metadata": {},
     "output_type": "execute_result"
    }
   ],
   "execution_count": 32
  },
  {
   "cell_type": "markdown",
   "metadata": {
    "id": "OrRUJuutagFZ"
   },
   "source": [
    "### Desafio 3\n",
    "Aplique um filtro que selecione apenas os alunos que foram aprovados"
   ]
  },
  {
   "cell_type": "code",
   "metadata": {
    "id": "mmF03BpwalK1",
    "ExecuteTime": {
     "end_time": "2025-02-15T18:56:13.172461Z",
     "start_time": "2025-02-15T18:56:13.164947Z"
    }
   },
   "source": "alunos_aprovados = alunos.query('Aprovado == True')",
   "outputs": [],
   "execution_count": 33
  },
  {
   "cell_type": "code",
   "metadata": {
    "id": "RiSIxMl2bo3-",
    "ExecuteTime": {
     "end_time": "2025-02-15T18:56:13.235613Z",
     "start_time": "2025-02-15T18:56:13.224960Z"
    }
   },
   "source": "alunos_aprovados",
   "outputs": [
    {
     "data": {
      "text/plain": [
       "         Nome  Idade  Notas  Aprovado\n",
       "0         Ary     20    7.5      True\n",
       "4        Beto     21   10.0      True\n",
       "6        Dara     21    7.0      True\n",
       "12  Sthefanie     26    9.5      True\n",
       "13      Mirla     25    9.0      True\n",
       "15     Mylena     29    7.0      True\n",
       "17      Nadia     34    8.0      True"
      ],
      "text/html": [
       "<div>\n",
       "<style scoped>\n",
       "    .dataframe tbody tr th:only-of-type {\n",
       "        vertical-align: middle;\n",
       "    }\n",
       "\n",
       "    .dataframe tbody tr th {\n",
       "        vertical-align: top;\n",
       "    }\n",
       "\n",
       "    .dataframe thead th {\n",
       "        text-align: right;\n",
       "    }\n",
       "</style>\n",
       "<table border=\"1\" class=\"dataframe\">\n",
       "  <thead>\n",
       "    <tr style=\"text-align: right;\">\n",
       "      <th></th>\n",
       "      <th>Nome</th>\n",
       "      <th>Idade</th>\n",
       "      <th>Notas</th>\n",
       "      <th>Aprovado</th>\n",
       "    </tr>\n",
       "  </thead>\n",
       "  <tbody>\n",
       "    <tr>\n",
       "      <th>0</th>\n",
       "      <td>Ary</td>\n",
       "      <td>20</td>\n",
       "      <td>7.5</td>\n",
       "      <td>True</td>\n",
       "    </tr>\n",
       "    <tr>\n",
       "      <th>4</th>\n",
       "      <td>Beto</td>\n",
       "      <td>21</td>\n",
       "      <td>10.0</td>\n",
       "      <td>True</td>\n",
       "    </tr>\n",
       "    <tr>\n",
       "      <th>6</th>\n",
       "      <td>Dara</td>\n",
       "      <td>21</td>\n",
       "      <td>7.0</td>\n",
       "      <td>True</td>\n",
       "    </tr>\n",
       "    <tr>\n",
       "      <th>12</th>\n",
       "      <td>Sthefanie</td>\n",
       "      <td>26</td>\n",
       "      <td>9.5</td>\n",
       "      <td>True</td>\n",
       "    </tr>\n",
       "    <tr>\n",
       "      <th>13</th>\n",
       "      <td>Mirla</td>\n",
       "      <td>25</td>\n",
       "      <td>9.0</td>\n",
       "      <td>True</td>\n",
       "    </tr>\n",
       "    <tr>\n",
       "      <th>15</th>\n",
       "      <td>Mylena</td>\n",
       "      <td>29</td>\n",
       "      <td>7.0</td>\n",
       "      <td>True</td>\n",
       "    </tr>\n",
       "    <tr>\n",
       "      <th>17</th>\n",
       "      <td>Nadia</td>\n",
       "      <td>34</td>\n",
       "      <td>8.0</td>\n",
       "      <td>True</td>\n",
       "    </tr>\n",
       "  </tbody>\n",
       "</table>\n",
       "</div>"
      ]
     },
     "execution_count": 34,
     "metadata": {},
     "output_type": "execute_result"
    }
   ],
   "execution_count": 34
  },
  {
   "cell_type": "markdown",
   "metadata": {
    "id": "tXgoKLW_dMQe"
   },
   "source": [
    "### Desafio 4\n",
    "Salve o DataFrame que possui apenas os alunos aprovados em um arquivo csv chamado \"alunos_aprovados.csv\""
   ]
  },
  {
   "cell_type": "code",
   "metadata": {
    "id": "f_6HGPUwdQNm",
    "ExecuteTime": {
     "end_time": "2025-02-15T18:56:13.335398Z",
     "start_time": "2025-02-15T18:56:13.328067Z"
    }
   },
   "source": "#alunos_aprovados.to_csv('alunos_aprovados.csv', index=False)",
   "outputs": [],
   "execution_count": 35
  },
  {
   "cell_type": "markdown",
   "metadata": {
    "id": "duXAyzYscJFU"
   },
   "source": [
    "### **Extra**\n",
    "Ao conferir as notas dos alunos aprovados, notamos que algumas notas estavam incorretas. As alunas que tiraram nota 7.0, na verdade tinham um ponto extra que não foi contabilizado. Sendo assim, substitua as notas 7.0 da base de dados por 8.0. **Dica**: pesquise pelo método **replace**"
   ]
  },
  {
   "cell_type": "code",
   "metadata": {
    "id": "NBww4uiodjFd",
    "ExecuteTime": {
     "end_time": "2025-02-15T18:56:13.393525Z",
     "start_time": "2025-02-15T18:56:13.387526Z"
    }
   },
   "source": "alunos_aprovados['Notas'] = alunos_aprovados['Notas'].replace(7.0, 8.0)",
   "outputs": [
    {
     "name": "stderr",
     "output_type": "stream",
     "text": [
      "C:\\Users\\kelvyn.candido\\AppData\\Local\\Temp\\ipykernel_16328\\174260029.py:1: SettingWithCopyWarning: \n",
      "A value is trying to be set on a copy of a slice from a DataFrame.\n",
      "Try using .loc[row_indexer,col_indexer] = value instead\n",
      "\n",
      "See the caveats in the documentation: https://pandas.pydata.org/pandas-docs/stable/user_guide/indexing.html#returning-a-view-versus-a-copy\n",
      "  alunos_aprovados['Notas'] = alunos_aprovados['Notas'].replace(7.0, 8.0)\n"
     ]
    }
   ],
   "execution_count": 36
  },
  {
   "cell_type": "code",
   "metadata": {
    "id": "6rXH1Q89btNt",
    "ExecuteTime": {
     "end_time": "2025-02-15T18:56:13.478686Z",
     "start_time": "2025-02-15T18:56:13.466992Z"
    }
   },
   "source": "alunos_aprovados",
   "outputs": [
    {
     "data": {
      "text/plain": [
       "         Nome  Idade  Notas  Aprovado\n",
       "0         Ary     20    7.5      True\n",
       "4        Beto     21   10.0      True\n",
       "6        Dara     21    8.0      True\n",
       "12  Sthefanie     26    9.5      True\n",
       "13      Mirla     25    9.0      True\n",
       "15     Mylena     29    8.0      True\n",
       "17      Nadia     34    8.0      True"
      ],
      "text/html": [
       "<div>\n",
       "<style scoped>\n",
       "    .dataframe tbody tr th:only-of-type {\n",
       "        vertical-align: middle;\n",
       "    }\n",
       "\n",
       "    .dataframe tbody tr th {\n",
       "        vertical-align: top;\n",
       "    }\n",
       "\n",
       "    .dataframe thead th {\n",
       "        text-align: right;\n",
       "    }\n",
       "</style>\n",
       "<table border=\"1\" class=\"dataframe\">\n",
       "  <thead>\n",
       "    <tr style=\"text-align: right;\">\n",
       "      <th></th>\n",
       "      <th>Nome</th>\n",
       "      <th>Idade</th>\n",
       "      <th>Notas</th>\n",
       "      <th>Aprovado</th>\n",
       "    </tr>\n",
       "  </thead>\n",
       "  <tbody>\n",
       "    <tr>\n",
       "      <th>0</th>\n",
       "      <td>Ary</td>\n",
       "      <td>20</td>\n",
       "      <td>7.5</td>\n",
       "      <td>True</td>\n",
       "    </tr>\n",
       "    <tr>\n",
       "      <th>4</th>\n",
       "      <td>Beto</td>\n",
       "      <td>21</td>\n",
       "      <td>10.0</td>\n",
       "      <td>True</td>\n",
       "    </tr>\n",
       "    <tr>\n",
       "      <th>6</th>\n",
       "      <td>Dara</td>\n",
       "      <td>21</td>\n",
       "      <td>8.0</td>\n",
       "      <td>True</td>\n",
       "    </tr>\n",
       "    <tr>\n",
       "      <th>12</th>\n",
       "      <td>Sthefanie</td>\n",
       "      <td>26</td>\n",
       "      <td>9.5</td>\n",
       "      <td>True</td>\n",
       "    </tr>\n",
       "    <tr>\n",
       "      <th>13</th>\n",
       "      <td>Mirla</td>\n",
       "      <td>25</td>\n",
       "      <td>9.0</td>\n",
       "      <td>True</td>\n",
       "    </tr>\n",
       "    <tr>\n",
       "      <th>15</th>\n",
       "      <td>Mylena</td>\n",
       "      <td>29</td>\n",
       "      <td>8.0</td>\n",
       "      <td>True</td>\n",
       "    </tr>\n",
       "    <tr>\n",
       "      <th>17</th>\n",
       "      <td>Nadia</td>\n",
       "      <td>34</td>\n",
       "      <td>8.0</td>\n",
       "      <td>True</td>\n",
       "    </tr>\n",
       "  </tbody>\n",
       "</table>\n",
       "</div>"
      ]
     },
     "execution_count": 37,
     "metadata": {},
     "output_type": "execute_result"
    }
   ],
   "execution_count": 37
  },
  {
   "cell_type": "markdown",
   "metadata": {
    "id": "jUHA6Z_cy5vc"
   },
   "source": [
    "## Aula 4\n",
    "\n",
    "Importe novamente o arquivo [**alunos.csv**](https://raw.githubusercontent.com/alura-cursos/pandas-conhecendo-a-biblioteca/main/desafios/alunos.csv) para realizar os desafios abaixo."
   ]
  },
  {
   "cell_type": "code",
   "metadata": {
    "id": "TRLTBVThxo1g",
    "ExecuteTime": {
     "end_time": "2025-02-15T18:56:13.658240Z",
     "start_time": "2025-02-15T18:56:13.597982Z"
    }
   },
   "source": [
    "# Importando novamente os dados\n",
    "url = 'https://raw.githubusercontent.com/KelvynAmaral/jornada_pandas/refs/heads/main/datasets/alunos_salvos.csv'\n",
    "\n",
    "dados = pd.read_csv(url)"
   ],
   "outputs": [],
   "execution_count": 38
  },
  {
   "cell_type": "markdown",
   "metadata": {
    "id": "-nX3fxz7y8P9"
   },
   "source": [
    "### Desafio 1\n",
    "Os alunos participaram de uma atividade extracurricular e ganharam pontos extras. Esses pontos extras correspondem a 40% da nota atual de cada um deles. Com base nisso, crie uma coluna chamada \"Pontos_extras\" que contenha os pontos extras de cada aluno, ou seja, 40% da nota atual deles"
   ]
  },
  {
   "metadata": {
    "ExecuteTime": {
     "end_time": "2025-02-15T18:56:13.730249Z",
     "start_time": "2025-02-15T18:56:13.711827Z"
    }
   },
   "cell_type": "code",
   "source": [
    "dados['Notas'] = dados['Notas'].fillna(0)\n",
    "dados"
   ],
   "outputs": [
    {
     "data": {
      "text/plain": [
       "         Nome  Idade  Notas  Aprovado\n",
       "0         Ary     20    7.5      True\n",
       "1         Ana     18    0.0     False\n",
       "2       Cátia     27    2.5     False\n",
       "3       Denis     18    5.0     False\n",
       "4        Beto     21   10.0      True\n",
       "5       Bruna     23    0.0     False\n",
       "6        Dara     21    7.0      True\n",
       "7      Carlos     19    6.0      True\n",
       "8       Alice     35    5.6     False\n",
       "9       Vitor     28    0.0     False\n",
       "10     Daniel     21    0.0     False\n",
       "11       Igor     24    4.5     False\n",
       "12  Sthefanie     26    9.5      True\n",
       "13      Mirla     25    9.0      True\n",
       "14      Paulo     37    0.0     False\n",
       "15     Mylena     29    7.0      True\n",
       "16      Lucas     33    0.0     False\n",
       "17      Nadia     34    8.0      True"
      ],
      "text/html": [
       "<div>\n",
       "<style scoped>\n",
       "    .dataframe tbody tr th:only-of-type {\n",
       "        vertical-align: middle;\n",
       "    }\n",
       "\n",
       "    .dataframe tbody tr th {\n",
       "        vertical-align: top;\n",
       "    }\n",
       "\n",
       "    .dataframe thead th {\n",
       "        text-align: right;\n",
       "    }\n",
       "</style>\n",
       "<table border=\"1\" class=\"dataframe\">\n",
       "  <thead>\n",
       "    <tr style=\"text-align: right;\">\n",
       "      <th></th>\n",
       "      <th>Nome</th>\n",
       "      <th>Idade</th>\n",
       "      <th>Notas</th>\n",
       "      <th>Aprovado</th>\n",
       "    </tr>\n",
       "  </thead>\n",
       "  <tbody>\n",
       "    <tr>\n",
       "      <th>0</th>\n",
       "      <td>Ary</td>\n",
       "      <td>20</td>\n",
       "      <td>7.5</td>\n",
       "      <td>True</td>\n",
       "    </tr>\n",
       "    <tr>\n",
       "      <th>1</th>\n",
       "      <td>Ana</td>\n",
       "      <td>18</td>\n",
       "      <td>0.0</td>\n",
       "      <td>False</td>\n",
       "    </tr>\n",
       "    <tr>\n",
       "      <th>2</th>\n",
       "      <td>Cátia</td>\n",
       "      <td>27</td>\n",
       "      <td>2.5</td>\n",
       "      <td>False</td>\n",
       "    </tr>\n",
       "    <tr>\n",
       "      <th>3</th>\n",
       "      <td>Denis</td>\n",
       "      <td>18</td>\n",
       "      <td>5.0</td>\n",
       "      <td>False</td>\n",
       "    </tr>\n",
       "    <tr>\n",
       "      <th>4</th>\n",
       "      <td>Beto</td>\n",
       "      <td>21</td>\n",
       "      <td>10.0</td>\n",
       "      <td>True</td>\n",
       "    </tr>\n",
       "    <tr>\n",
       "      <th>5</th>\n",
       "      <td>Bruna</td>\n",
       "      <td>23</td>\n",
       "      <td>0.0</td>\n",
       "      <td>False</td>\n",
       "    </tr>\n",
       "    <tr>\n",
       "      <th>6</th>\n",
       "      <td>Dara</td>\n",
       "      <td>21</td>\n",
       "      <td>7.0</td>\n",
       "      <td>True</td>\n",
       "    </tr>\n",
       "    <tr>\n",
       "      <th>7</th>\n",
       "      <td>Carlos</td>\n",
       "      <td>19</td>\n",
       "      <td>6.0</td>\n",
       "      <td>True</td>\n",
       "    </tr>\n",
       "    <tr>\n",
       "      <th>8</th>\n",
       "      <td>Alice</td>\n",
       "      <td>35</td>\n",
       "      <td>5.6</td>\n",
       "      <td>False</td>\n",
       "    </tr>\n",
       "    <tr>\n",
       "      <th>9</th>\n",
       "      <td>Vitor</td>\n",
       "      <td>28</td>\n",
       "      <td>0.0</td>\n",
       "      <td>False</td>\n",
       "    </tr>\n",
       "    <tr>\n",
       "      <th>10</th>\n",
       "      <td>Daniel</td>\n",
       "      <td>21</td>\n",
       "      <td>0.0</td>\n",
       "      <td>False</td>\n",
       "    </tr>\n",
       "    <tr>\n",
       "      <th>11</th>\n",
       "      <td>Igor</td>\n",
       "      <td>24</td>\n",
       "      <td>4.5</td>\n",
       "      <td>False</td>\n",
       "    </tr>\n",
       "    <tr>\n",
       "      <th>12</th>\n",
       "      <td>Sthefanie</td>\n",
       "      <td>26</td>\n",
       "      <td>9.5</td>\n",
       "      <td>True</td>\n",
       "    </tr>\n",
       "    <tr>\n",
       "      <th>13</th>\n",
       "      <td>Mirla</td>\n",
       "      <td>25</td>\n",
       "      <td>9.0</td>\n",
       "      <td>True</td>\n",
       "    </tr>\n",
       "    <tr>\n",
       "      <th>14</th>\n",
       "      <td>Paulo</td>\n",
       "      <td>37</td>\n",
       "      <td>0.0</td>\n",
       "      <td>False</td>\n",
       "    </tr>\n",
       "    <tr>\n",
       "      <th>15</th>\n",
       "      <td>Mylena</td>\n",
       "      <td>29</td>\n",
       "      <td>7.0</td>\n",
       "      <td>True</td>\n",
       "    </tr>\n",
       "    <tr>\n",
       "      <th>16</th>\n",
       "      <td>Lucas</td>\n",
       "      <td>33</td>\n",
       "      <td>0.0</td>\n",
       "      <td>False</td>\n",
       "    </tr>\n",
       "    <tr>\n",
       "      <th>17</th>\n",
       "      <td>Nadia</td>\n",
       "      <td>34</td>\n",
       "      <td>8.0</td>\n",
       "      <td>True</td>\n",
       "    </tr>\n",
       "  </tbody>\n",
       "</table>\n",
       "</div>"
      ]
     },
     "execution_count": 39,
     "metadata": {},
     "output_type": "execute_result"
    }
   ],
   "execution_count": 39
  },
  {
   "cell_type": "code",
   "metadata": {
    "id": "34CKCvGmy7J9",
    "ExecuteTime": {
     "end_time": "2025-02-15T18:56:13.840735Z",
     "start_time": "2025-02-15T18:56:13.826739Z"
    }
   },
   "source": [
    "dados['Pontos_extras'] = dados['Notas'] * 0.4\n",
    "dados.round(2)"
   ],
   "outputs": [
    {
     "data": {
      "text/plain": [
       "         Nome  Idade  Notas  Aprovado  Pontos_extras\n",
       "0         Ary     20    7.5      True           3.00\n",
       "1         Ana     18    0.0     False           0.00\n",
       "2       Cátia     27    2.5     False           1.00\n",
       "3       Denis     18    5.0     False           2.00\n",
       "4        Beto     21   10.0      True           4.00\n",
       "5       Bruna     23    0.0     False           0.00\n",
       "6        Dara     21    7.0      True           2.80\n",
       "7      Carlos     19    6.0      True           2.40\n",
       "8       Alice     35    5.6     False           2.24\n",
       "9       Vitor     28    0.0     False           0.00\n",
       "10     Daniel     21    0.0     False           0.00\n",
       "11       Igor     24    4.5     False           1.80\n",
       "12  Sthefanie     26    9.5      True           3.80\n",
       "13      Mirla     25    9.0      True           3.60\n",
       "14      Paulo     37    0.0     False           0.00\n",
       "15     Mylena     29    7.0      True           2.80\n",
       "16      Lucas     33    0.0     False           0.00\n",
       "17      Nadia     34    8.0      True           3.20"
      ],
      "text/html": [
       "<div>\n",
       "<style scoped>\n",
       "    .dataframe tbody tr th:only-of-type {\n",
       "        vertical-align: middle;\n",
       "    }\n",
       "\n",
       "    .dataframe tbody tr th {\n",
       "        vertical-align: top;\n",
       "    }\n",
       "\n",
       "    .dataframe thead th {\n",
       "        text-align: right;\n",
       "    }\n",
       "</style>\n",
       "<table border=\"1\" class=\"dataframe\">\n",
       "  <thead>\n",
       "    <tr style=\"text-align: right;\">\n",
       "      <th></th>\n",
       "      <th>Nome</th>\n",
       "      <th>Idade</th>\n",
       "      <th>Notas</th>\n",
       "      <th>Aprovado</th>\n",
       "      <th>Pontos_extras</th>\n",
       "    </tr>\n",
       "  </thead>\n",
       "  <tbody>\n",
       "    <tr>\n",
       "      <th>0</th>\n",
       "      <td>Ary</td>\n",
       "      <td>20</td>\n",
       "      <td>7.5</td>\n",
       "      <td>True</td>\n",
       "      <td>3.00</td>\n",
       "    </tr>\n",
       "    <tr>\n",
       "      <th>1</th>\n",
       "      <td>Ana</td>\n",
       "      <td>18</td>\n",
       "      <td>0.0</td>\n",
       "      <td>False</td>\n",
       "      <td>0.00</td>\n",
       "    </tr>\n",
       "    <tr>\n",
       "      <th>2</th>\n",
       "      <td>Cátia</td>\n",
       "      <td>27</td>\n",
       "      <td>2.5</td>\n",
       "      <td>False</td>\n",
       "      <td>1.00</td>\n",
       "    </tr>\n",
       "    <tr>\n",
       "      <th>3</th>\n",
       "      <td>Denis</td>\n",
       "      <td>18</td>\n",
       "      <td>5.0</td>\n",
       "      <td>False</td>\n",
       "      <td>2.00</td>\n",
       "    </tr>\n",
       "    <tr>\n",
       "      <th>4</th>\n",
       "      <td>Beto</td>\n",
       "      <td>21</td>\n",
       "      <td>10.0</td>\n",
       "      <td>True</td>\n",
       "      <td>4.00</td>\n",
       "    </tr>\n",
       "    <tr>\n",
       "      <th>5</th>\n",
       "      <td>Bruna</td>\n",
       "      <td>23</td>\n",
       "      <td>0.0</td>\n",
       "      <td>False</td>\n",
       "      <td>0.00</td>\n",
       "    </tr>\n",
       "    <tr>\n",
       "      <th>6</th>\n",
       "      <td>Dara</td>\n",
       "      <td>21</td>\n",
       "      <td>7.0</td>\n",
       "      <td>True</td>\n",
       "      <td>2.80</td>\n",
       "    </tr>\n",
       "    <tr>\n",
       "      <th>7</th>\n",
       "      <td>Carlos</td>\n",
       "      <td>19</td>\n",
       "      <td>6.0</td>\n",
       "      <td>True</td>\n",
       "      <td>2.40</td>\n",
       "    </tr>\n",
       "    <tr>\n",
       "      <th>8</th>\n",
       "      <td>Alice</td>\n",
       "      <td>35</td>\n",
       "      <td>5.6</td>\n",
       "      <td>False</td>\n",
       "      <td>2.24</td>\n",
       "    </tr>\n",
       "    <tr>\n",
       "      <th>9</th>\n",
       "      <td>Vitor</td>\n",
       "      <td>28</td>\n",
       "      <td>0.0</td>\n",
       "      <td>False</td>\n",
       "      <td>0.00</td>\n",
       "    </tr>\n",
       "    <tr>\n",
       "      <th>10</th>\n",
       "      <td>Daniel</td>\n",
       "      <td>21</td>\n",
       "      <td>0.0</td>\n",
       "      <td>False</td>\n",
       "      <td>0.00</td>\n",
       "    </tr>\n",
       "    <tr>\n",
       "      <th>11</th>\n",
       "      <td>Igor</td>\n",
       "      <td>24</td>\n",
       "      <td>4.5</td>\n",
       "      <td>False</td>\n",
       "      <td>1.80</td>\n",
       "    </tr>\n",
       "    <tr>\n",
       "      <th>12</th>\n",
       "      <td>Sthefanie</td>\n",
       "      <td>26</td>\n",
       "      <td>9.5</td>\n",
       "      <td>True</td>\n",
       "      <td>3.80</td>\n",
       "    </tr>\n",
       "    <tr>\n",
       "      <th>13</th>\n",
       "      <td>Mirla</td>\n",
       "      <td>25</td>\n",
       "      <td>9.0</td>\n",
       "      <td>True</td>\n",
       "      <td>3.60</td>\n",
       "    </tr>\n",
       "    <tr>\n",
       "      <th>14</th>\n",
       "      <td>Paulo</td>\n",
       "      <td>37</td>\n",
       "      <td>0.0</td>\n",
       "      <td>False</td>\n",
       "      <td>0.00</td>\n",
       "    </tr>\n",
       "    <tr>\n",
       "      <th>15</th>\n",
       "      <td>Mylena</td>\n",
       "      <td>29</td>\n",
       "      <td>7.0</td>\n",
       "      <td>True</td>\n",
       "      <td>2.80</td>\n",
       "    </tr>\n",
       "    <tr>\n",
       "      <th>16</th>\n",
       "      <td>Lucas</td>\n",
       "      <td>33</td>\n",
       "      <td>0.0</td>\n",
       "      <td>False</td>\n",
       "      <td>0.00</td>\n",
       "    </tr>\n",
       "    <tr>\n",
       "      <th>17</th>\n",
       "      <td>Nadia</td>\n",
       "      <td>34</td>\n",
       "      <td>8.0</td>\n",
       "      <td>True</td>\n",
       "      <td>3.20</td>\n",
       "    </tr>\n",
       "  </tbody>\n",
       "</table>\n",
       "</div>"
      ]
     },
     "execution_count": 40,
     "metadata": {},
     "output_type": "execute_result"
    }
   ],
   "execution_count": 40
  },
  {
   "cell_type": "markdown",
   "metadata": {
    "id": "LPbOAgiRzvnf"
   },
   "source": [
    "### Desafio 2\n",
    "Crie mais uma coluna, chamada \"Notas_finais\" que possua as notas de cada aluno somada com os pontos extras"
   ]
  },
  {
   "cell_type": "code",
   "metadata": {
    "id": "T4wuC339zw_p",
    "ExecuteTime": {
     "end_time": "2025-02-15T18:56:13.915202Z",
     "start_time": "2025-02-15T18:56:13.905144Z"
    }
   },
   "source": [
    "dados['Notas_finais'] = dados['Notas'] + dados['Pontos_extras']\n",
    "dados.head(2)"
   ],
   "outputs": [
    {
     "data": {
      "text/plain": [
       "  Nome  Idade  Notas  Aprovado  Pontos_extras  Notas_finais\n",
       "0  Ary     20    7.5      True            3.0          10.5\n",
       "1  Ana     18    0.0     False            0.0           0.0"
      ],
      "text/html": [
       "<div>\n",
       "<style scoped>\n",
       "    .dataframe tbody tr th:only-of-type {\n",
       "        vertical-align: middle;\n",
       "    }\n",
       "\n",
       "    .dataframe tbody tr th {\n",
       "        vertical-align: top;\n",
       "    }\n",
       "\n",
       "    .dataframe thead th {\n",
       "        text-align: right;\n",
       "    }\n",
       "</style>\n",
       "<table border=\"1\" class=\"dataframe\">\n",
       "  <thead>\n",
       "    <tr style=\"text-align: right;\">\n",
       "      <th></th>\n",
       "      <th>Nome</th>\n",
       "      <th>Idade</th>\n",
       "      <th>Notas</th>\n",
       "      <th>Aprovado</th>\n",
       "      <th>Pontos_extras</th>\n",
       "      <th>Notas_finais</th>\n",
       "    </tr>\n",
       "  </thead>\n",
       "  <tbody>\n",
       "    <tr>\n",
       "      <th>0</th>\n",
       "      <td>Ary</td>\n",
       "      <td>20</td>\n",
       "      <td>7.5</td>\n",
       "      <td>True</td>\n",
       "      <td>3.0</td>\n",
       "      <td>10.5</td>\n",
       "    </tr>\n",
       "    <tr>\n",
       "      <th>1</th>\n",
       "      <td>Ana</td>\n",
       "      <td>18</td>\n",
       "      <td>0.0</td>\n",
       "      <td>False</td>\n",
       "      <td>0.0</td>\n",
       "      <td>0.0</td>\n",
       "    </tr>\n",
       "  </tbody>\n",
       "</table>\n",
       "</div>"
      ]
     },
     "execution_count": 41,
     "metadata": {},
     "output_type": "execute_result"
    }
   ],
   "execution_count": 41
  },
  {
   "cell_type": "markdown",
   "metadata": {
    "id": "8L-b9Hxfz8fo"
   },
   "source": [
    "### Desafio 3\n",
    "Como os alunos ganharam pontos extras, alguns que não tinham sido aprovados antes podem ter sido aprovados agora. Com base nisso, crie uma coluna chamada \"Aprovado_final\" com os seguintes valores:\n",
    "\n",
    "* True: caso o aluno esteja aprovado (nota final deve ser maior ou igual a 6);\n",
    "* False: caso o aluno esteja reprovado (nota final deve ser menor que 6).\n"
   ]
  },
  {
   "cell_type": "code",
   "metadata": {
    "id": "A6aXkdOsz3DR",
    "ExecuteTime": {
     "end_time": "2025-02-15T18:56:14.063936Z",
     "start_time": "2025-02-15T18:56:14.052629Z"
    }
   },
   "source": [
    "dados['Aprovado_final'] = dados['Notas_finais'] >= 6\n",
    "dados.head()"
   ],
   "outputs": [
    {
     "data": {
      "text/plain": [
       "    Nome  Idade  Notas  Aprovado  Pontos_extras  Notas_finais  Aprovado_final\n",
       "0    Ary     20    7.5      True            3.0          10.5            True\n",
       "1    Ana     18    0.0     False            0.0           0.0           False\n",
       "2  Cátia     27    2.5     False            1.0           3.5           False\n",
       "3  Denis     18    5.0     False            2.0           7.0            True\n",
       "4   Beto     21   10.0      True            4.0          14.0            True"
      ],
      "text/html": [
       "<div>\n",
       "<style scoped>\n",
       "    .dataframe tbody tr th:only-of-type {\n",
       "        vertical-align: middle;\n",
       "    }\n",
       "\n",
       "    .dataframe tbody tr th {\n",
       "        vertical-align: top;\n",
       "    }\n",
       "\n",
       "    .dataframe thead th {\n",
       "        text-align: right;\n",
       "    }\n",
       "</style>\n",
       "<table border=\"1\" class=\"dataframe\">\n",
       "  <thead>\n",
       "    <tr style=\"text-align: right;\">\n",
       "      <th></th>\n",
       "      <th>Nome</th>\n",
       "      <th>Idade</th>\n",
       "      <th>Notas</th>\n",
       "      <th>Aprovado</th>\n",
       "      <th>Pontos_extras</th>\n",
       "      <th>Notas_finais</th>\n",
       "      <th>Aprovado_final</th>\n",
       "    </tr>\n",
       "  </thead>\n",
       "  <tbody>\n",
       "    <tr>\n",
       "      <th>0</th>\n",
       "      <td>Ary</td>\n",
       "      <td>20</td>\n",
       "      <td>7.5</td>\n",
       "      <td>True</td>\n",
       "      <td>3.0</td>\n",
       "      <td>10.5</td>\n",
       "      <td>True</td>\n",
       "    </tr>\n",
       "    <tr>\n",
       "      <th>1</th>\n",
       "      <td>Ana</td>\n",
       "      <td>18</td>\n",
       "      <td>0.0</td>\n",
       "      <td>False</td>\n",
       "      <td>0.0</td>\n",
       "      <td>0.0</td>\n",
       "      <td>False</td>\n",
       "    </tr>\n",
       "    <tr>\n",
       "      <th>2</th>\n",
       "      <td>Cátia</td>\n",
       "      <td>27</td>\n",
       "      <td>2.5</td>\n",
       "      <td>False</td>\n",
       "      <td>1.0</td>\n",
       "      <td>3.5</td>\n",
       "      <td>False</td>\n",
       "    </tr>\n",
       "    <tr>\n",
       "      <th>3</th>\n",
       "      <td>Denis</td>\n",
       "      <td>18</td>\n",
       "      <td>5.0</td>\n",
       "      <td>False</td>\n",
       "      <td>2.0</td>\n",
       "      <td>7.0</td>\n",
       "      <td>True</td>\n",
       "    </tr>\n",
       "    <tr>\n",
       "      <th>4</th>\n",
       "      <td>Beto</td>\n",
       "      <td>21</td>\n",
       "      <td>10.0</td>\n",
       "      <td>True</td>\n",
       "      <td>4.0</td>\n",
       "      <td>14.0</td>\n",
       "      <td>True</td>\n",
       "    </tr>\n",
       "  </tbody>\n",
       "</table>\n",
       "</div>"
      ]
     },
     "execution_count": 42,
     "metadata": {},
     "output_type": "execute_result"
    }
   ],
   "execution_count": 42
  },
  {
   "cell_type": "markdown",
   "metadata": {
    "id": "UNnNsZYW1Xj_"
   },
   "source": [
    "### Desafio 4\n",
    "Faça uma seleção e verifique quais alunos não tinham sido aprovados anteriormente, mas foram aprovados após a soma dos pontos extras"
   ]
  },
  {
   "cell_type": "code",
   "metadata": {
    "id": "8BxkbL2N02sp",
    "ExecuteTime": {
     "end_time": "2025-02-15T18:56:14.192886Z",
     "start_time": "2025-02-15T18:56:14.178588Z"
    }
   },
   "source": "dados.query('Aprovado == False & Aprovado_final == True')",
   "outputs": [
    {
     "data": {
      "text/plain": [
       "     Nome  Idade  Notas  Aprovado  Pontos_extras  Notas_finais  Aprovado_final\n",
       "3   Denis     18    5.0     False           2.00          7.00            True\n",
       "8   Alice     35    5.6     False           2.24          7.84            True\n",
       "11   Igor     24    4.5     False           1.80          6.30            True"
      ],
      "text/html": [
       "<div>\n",
       "<style scoped>\n",
       "    .dataframe tbody tr th:only-of-type {\n",
       "        vertical-align: middle;\n",
       "    }\n",
       "\n",
       "    .dataframe tbody tr th {\n",
       "        vertical-align: top;\n",
       "    }\n",
       "\n",
       "    .dataframe thead th {\n",
       "        text-align: right;\n",
       "    }\n",
       "</style>\n",
       "<table border=\"1\" class=\"dataframe\">\n",
       "  <thead>\n",
       "    <tr style=\"text-align: right;\">\n",
       "      <th></th>\n",
       "      <th>Nome</th>\n",
       "      <th>Idade</th>\n",
       "      <th>Notas</th>\n",
       "      <th>Aprovado</th>\n",
       "      <th>Pontos_extras</th>\n",
       "      <th>Notas_finais</th>\n",
       "      <th>Aprovado_final</th>\n",
       "    </tr>\n",
       "  </thead>\n",
       "  <tbody>\n",
       "    <tr>\n",
       "      <th>3</th>\n",
       "      <td>Denis</td>\n",
       "      <td>18</td>\n",
       "      <td>5.0</td>\n",
       "      <td>False</td>\n",
       "      <td>2.00</td>\n",
       "      <td>7.00</td>\n",
       "      <td>True</td>\n",
       "    </tr>\n",
       "    <tr>\n",
       "      <th>8</th>\n",
       "      <td>Alice</td>\n",
       "      <td>35</td>\n",
       "      <td>5.6</td>\n",
       "      <td>False</td>\n",
       "      <td>2.24</td>\n",
       "      <td>7.84</td>\n",
       "      <td>True</td>\n",
       "    </tr>\n",
       "    <tr>\n",
       "      <th>11</th>\n",
       "      <td>Igor</td>\n",
       "      <td>24</td>\n",
       "      <td>4.5</td>\n",
       "      <td>False</td>\n",
       "      <td>1.80</td>\n",
       "      <td>6.30</td>\n",
       "      <td>True</td>\n",
       "    </tr>\n",
       "  </tbody>\n",
       "</table>\n",
       "</div>"
      ]
     },
     "execution_count": 43,
     "metadata": {},
     "output_type": "execute_result"
    }
   ],
   "execution_count": 43
  },
  {
   "metadata": {
    "ExecuteTime": {
     "end_time": "2025-02-15T18:56:14.483304Z",
     "start_time": "2025-02-15T18:56:14.480361Z"
    }
   },
   "cell_type": "code",
   "source": "",
   "outputs": [],
   "execution_count": null
  }
 ],
 "metadata": {
  "colab": {
   "provenance": [],
   "toc_visible": true
  },
  "kernelspec": {
   "display_name": "base",
   "language": "python",
   "name": "python3"
  },
  "language_info": {
   "codemirror_mode": {
    "name": "ipython",
    "version": 3
   },
   "file_extension": ".py",
   "mimetype": "text/x-python",
   "name": "python",
   "nbconvert_exporter": "python",
   "pygments_lexer": "ipython3",
   "version": "3.12.4"
  }
 },
 "nbformat": 4,
 "nbformat_minor": 0
}
